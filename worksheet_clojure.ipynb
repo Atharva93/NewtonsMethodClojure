{
 "cells": [
  {
   "cell_type": "markdown",
   "metadata": {},
   "source": [
    "# Newton's method in Clojure"
   ]
  },
  {
   "cell_type": "markdown",
   "metadata": {},
   "source": [
    "## ✎ The polynomial function\n",
    "\n",
    "Define a function `poly` that will compute the polynomial\n",
    "of the form: $a x^3 + b x^2 + c + d$.\n",
    "\n",
    "The function takes the arguments:\n",
    "\n",
    "- `a`, `b`, `c`, `d` the polynomial's coefficients.\n",
    "\n",
    "The function returns:\n",
    "\n",
    "- a function `(fn [x] ...)` that is the polynomial."
   ]
  },
  {
   "cell_type": "code",
   "execution_count": null,
   "metadata": {},
   "outputs": [],
   "source": [
    "(defn poly [a b c d]\n",
    "    ;;\n",
    "    ;; complete\n",
    "    ;; \n",
    "    )"
   ]
  },
  {
   "cell_type": "markdown",
   "metadata": {},
   "source": [
    "## ✎ The derivative function\n",
    "\n",
    "Define a function `poly-der` that will compute the derivative of the polynomial\n",
    "of the form: $ax^3 + bx^2 + cx + d$\n",
    "\n",
    "The function takes the arguments:\n",
    "\n",
    "- `a`, `b`, `c`, `d` the polynomial's coefficients.\n",
    "\n",
    "The function returns:\n",
    "\n",
    "- a function `(fn [x] ...)` that is the derivative of the polynomial."
   ]
  },
  {
   "cell_type": "code",
   "execution_count": null,
   "metadata": {},
   "outputs": [],
   "source": [
    "(defn poly-der [a b c d]\n",
    "    ;;\n",
    "    ;; complete\n",
    "    ;;\n",
    "    )"
   ]
  },
  {
   "cell_type": "markdown",
   "metadata": {},
   "source": [
    "# The Newton's method\n",
    "\n",
    "In the next few sections, we will guide you to implement the Newton's method in the style of functional programming.  We will also be quite literal naming the functions."
   ]
  },
  {
   "cell_type": "markdown",
   "metadata": {},
   "source": [
    "## ✎ Update function\n",
    "\n",
    "Define a function that updates a guess of the solution using the formula:\n",
    "$$ x_\\mathrm{next} = x - f(x)/f'(x) $$\n",
    "\n",
    "Your function should take three arguments:\n",
    "\n",
    "- f: the function whose root we are looking for.\n",
    "- f': the derivative of the function\n",
    "- x: the current guess"
   ]
  },
  {
   "cell_type": "code",
   "execution_count": null,
   "metadata": {},
   "outputs": [],
   "source": [
    "(defn => [f f' x]\n",
    "    ;;\n",
    "    ;; complete\n",
    "    ;;\n",
    "    )"
   ]
  },
  {
   "cell_type": "markdown",
   "metadata": {},
   "source": [
    "## ✎ The solver\n",
    "\n",
    "Define a function to implement the Newton's method to solve the equation $f(x)=0$.\n",
    "The function takes the arguments:\n",
    "\n",
    "- `f` and `f'` which are the function and its derivative.\n",
    "- `n`: the number of iterations\n",
    "- `x0`: the initial guess\n",
    "\n",
    "The function returns:\n",
    "\n",
    "- the final solution $x$ and the result of $f(x)$."
   ]
  },
  {
   "cell_type": "code",
   "execution_count": null,
   "metadata": {},
   "outputs": [],
   "source": [
    "(defn newtons-method [f f' n x0]\n",
    "    ;;\n",
    "    ;; complete\n",
    "    ;;\n",
    "    )"
   ]
  },
  {
   "cell_type": "markdown",
   "metadata": {},
   "source": [
    "## Evaluation\n",
    "\n",
    "The following code tests your implementation."
   ]
  },
  {
   "cell_type": "code",
   "execution_count": null,
   "metadata": {},
   "outputs": [],
   "source": [
    "; A polynomial of 1*1000 + 2*100 + 3*10 + 4\n",
    "(let [f (poly 1 2 3 4)]\n",
    "    (f 10))"
   ]
  },
  {
   "cell_type": "code",
   "execution_count": null,
   "metadata": {},
   "outputs": [],
   "source": [
    "; The derivative\n",
    "((poly-der 1 2 3 4) 10)"
   ]
  },
  {
   "cell_type": "code",
   "execution_count": null,
   "metadata": {},
   "outputs": [],
   "source": [
    "(let [coef [1 2 3 4]\n",
    "      f (apply poly coef)\n",
    "      f' (apply poly-der coef)\n",
    "      x0 0.]\n",
    "    (=> f f' x0))"
   ]
  },
  {
   "cell_type": "code",
   "execution_count": null,
   "metadata": {},
   "outputs": [],
   "source": [
    "(let [coef [1 2 3 4]\n",
    "      f (apply poly coef)\n",
    "      f' (apply poly-der coef)\n",
    "      x0 10.]\n",
    "    (newtons-method f f' 10 x0))"
   ]
  },
  {
   "cell_type": "code",
   "execution_count": null,
   "metadata": {},
   "outputs": [],
   "source": []
  }
 ],
 "metadata": {
  "kernelspec": {
   "display_name": "Clojure (clojupyter-v0.2.2)",
   "language": "clojure",
   "name": "clojupyter"
  },
  "language_info": {
   "file_extension": ".clj",
   "mimetype": "text/x-clojure",
   "name": "clojure",
   "version": "1.10.0"
  }
 },
 "nbformat": 4,
 "nbformat_minor": 4
}
